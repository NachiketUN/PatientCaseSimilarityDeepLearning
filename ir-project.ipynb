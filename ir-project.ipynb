{
 "cells": [
  {
   "cell_type": "code",
   "execution_count": 1,
   "metadata": {
    "_cell_guid": "b1076dfc-b9ad-4769-8c92-a6c4dae69d19",
    "_uuid": "8f2839f25d086af736a60e9eeb907d3b93b6e0e5"
   },
   "outputs": [
    {
     "name": "stdout",
     "output_type": "stream",
     "text": [
      "['NOTEEVENTS.csv', 'PATIENTS.csv', 'PRESCRIPTIONS.csv']\n"
     ]
    }
   ],
   "source": [
    "# This Python 3 environment comes with many helpful analytics libraries installed\n",
    "# It is defined by the kaggle/python docker image: https://github.com/kaggle/docker-python\n",
    "# For example, here's several helpful packages to load in \n",
    "\n",
    "import numpy as np # linear algebra\n",
    "import pandas as pd # data processing, CSV file I/O (e.g. pd.read_csv)\n",
    "\n",
    "# Input data files are available in the \"../input/\" directory.\n",
    "# For example, running this (by clicking run or pressing Shift+Enter) will list the files in the input directory\n",
    "\n",
    "import os\n",
    "print(os.listdir(\"../input\"))\n",
    "\n",
    "# Any results you write to the current directory are saved as output."
   ]
  },
  {
   "cell_type": "code",
   "execution_count": 2,
   "metadata": {
    "_cell_guid": "79c7e3d0-c299-4dcb-8224-4455121ee9b0",
    "_uuid": "d629ff2d2480ee46fbb7e2d37f6b5fab8052498a"
   },
   "outputs": [
    {
     "data": {
      "text/html": [
       "<div>\n",
       "<style scoped>\n",
       "    .dataframe tbody tr th:only-of-type {\n",
       "        vertical-align: middle;\n",
       "    }\n",
       "\n",
       "    .dataframe tbody tr th {\n",
       "        vertical-align: top;\n",
       "    }\n",
       "\n",
       "    .dataframe thead th {\n",
       "        text-align: right;\n",
       "    }\n",
       "</style>\n",
       "<table border=\"1\" class=\"dataframe\">\n",
       "  <thead>\n",
       "    <tr style=\"text-align: right;\">\n",
       "      <th></th>\n",
       "      <th>ROW_ID</th>\n",
       "      <th>SUBJECT_ID</th>\n",
       "      <th>HADM_ID</th>\n",
       "      <th>CHARTDATE</th>\n",
       "      <th>CHARTTIME</th>\n",
       "      <th>STORETIME</th>\n",
       "      <th>CATEGORY</th>\n",
       "      <th>DESCRIPTION</th>\n",
       "      <th>CGID</th>\n",
       "      <th>ISERROR</th>\n",
       "      <th>TEXT</th>\n",
       "    </tr>\n",
       "  </thead>\n",
       "  <tbody>\n",
       "    <tr>\n",
       "      <th>0</th>\n",
       "      <td>174</td>\n",
       "      <td>22532</td>\n",
       "      <td>167853.0</td>\n",
       "      <td>2151-08-04</td>\n",
       "      <td>NaN</td>\n",
       "      <td>NaN</td>\n",
       "      <td>Discharge summary</td>\n",
       "      <td>Report</td>\n",
       "      <td>NaN</td>\n",
       "      <td>NaN</td>\n",
       "      <td>Admission Date:  [**2151-7-16**]       Dischar...</td>\n",
       "    </tr>\n",
       "    <tr>\n",
       "      <th>1</th>\n",
       "      <td>175</td>\n",
       "      <td>13702</td>\n",
       "      <td>107527.0</td>\n",
       "      <td>2118-06-14</td>\n",
       "      <td>NaN</td>\n",
       "      <td>NaN</td>\n",
       "      <td>Discharge summary</td>\n",
       "      <td>Report</td>\n",
       "      <td>NaN</td>\n",
       "      <td>NaN</td>\n",
       "      <td>Admission Date:  [**2118-6-2**]       Discharg...</td>\n",
       "    </tr>\n",
       "    <tr>\n",
       "      <th>2</th>\n",
       "      <td>176</td>\n",
       "      <td>13702</td>\n",
       "      <td>167118.0</td>\n",
       "      <td>2119-05-25</td>\n",
       "      <td>NaN</td>\n",
       "      <td>NaN</td>\n",
       "      <td>Discharge summary</td>\n",
       "      <td>Report</td>\n",
       "      <td>NaN</td>\n",
       "      <td>NaN</td>\n",
       "      <td>Admission Date:  [**2119-5-4**]              D...</td>\n",
       "    </tr>\n",
       "    <tr>\n",
       "      <th>3</th>\n",
       "      <td>177</td>\n",
       "      <td>13702</td>\n",
       "      <td>196489.0</td>\n",
       "      <td>2124-08-18</td>\n",
       "      <td>NaN</td>\n",
       "      <td>NaN</td>\n",
       "      <td>Discharge summary</td>\n",
       "      <td>Report</td>\n",
       "      <td>NaN</td>\n",
       "      <td>NaN</td>\n",
       "      <td>Admission Date:  [**2124-7-21**]              ...</td>\n",
       "    </tr>\n",
       "    <tr>\n",
       "      <th>4</th>\n",
       "      <td>178</td>\n",
       "      <td>26880</td>\n",
       "      <td>135453.0</td>\n",
       "      <td>2162-03-25</td>\n",
       "      <td>NaN</td>\n",
       "      <td>NaN</td>\n",
       "      <td>Discharge summary</td>\n",
       "      <td>Report</td>\n",
       "      <td>NaN</td>\n",
       "      <td>NaN</td>\n",
       "      <td>Admission Date:  [**2162-3-3**]              D...</td>\n",
       "    </tr>\n",
       "  </tbody>\n",
       "</table>\n",
       "</div>"
      ],
      "text/plain": [
       "   ROW_ID                        ...                                                                       TEXT\n",
       "0     174                        ...                          Admission Date:  [**2151-7-16**]       Dischar...\n",
       "1     175                        ...                          Admission Date:  [**2118-6-2**]       Discharg...\n",
       "2     176                        ...                          Admission Date:  [**2119-5-4**]              D...\n",
       "3     177                        ...                          Admission Date:  [**2124-7-21**]              ...\n",
       "4     178                        ...                          Admission Date:  [**2162-3-3**]              D...\n",
       "\n",
       "[5 rows x 11 columns]"
      ]
     },
     "execution_count": 2,
     "metadata": {},
     "output_type": "execute_result"
    }
   ],
   "source": [
    "note_df=pd.read_csv('../input/NOTEEVENTS.csv',low_memory=False)\n",
    "note_df.head()"
   ]
  },
  {
   "cell_type": "code",
   "execution_count": 3,
   "metadata": {
    "_uuid": "7a2a945d71ed6d006ed9102fba24fffde49de222"
   },
   "outputs": [
    {
     "name": "stdout",
     "output_type": "stream",
     "text": [
      "Total no. of rows in this csv:2083180\n",
      "Different types of category in this csv are:\n",
      "Nursing/other        822497\n",
      "Radiology            522279\n",
      "Nursing              223556\n",
      "ECG                  209051\n",
      "Physician            141624\n",
      "Discharge summary     59652\n",
      "Echo                  45794\n",
      "Respiratory           31739\n",
      "Nutrition              9418\n",
      "General                8301\n",
      "Rehab Services         5431\n",
      "Social Work            2670\n",
      "Case Management         967\n",
      "Pharmacy                103\n",
      "Consult                  98\n",
      "Name: CATEGORY, dtype: int64\n",
      "Different types of description in this csv are:\n",
      "Report                                             1132519\n",
      "Nursing Progress Note                               191836\n",
      "CHEST (PORTABLE AP)                                 169270\n",
      "Physician Resident Progress Note                     62698\n",
      "CHEST (PA & LAT)                                     43158\n",
      "CT HEAD W/O CONTRAST                                 34485\n",
      "Respiratory Care Shift Note                          31105\n",
      "Nursing Transfer Note                                30773\n",
      "Intensivist Note                                     26144\n",
      "CHEST PORT. LINE PLACEMENT                           21596\n",
      "Physician Attending Progress Note                    21023\n",
      "Physician Resident Admission Note                    10654\n",
      "Clinical Nutrition Note                               9395\n",
      "PORTABLE ABDOMEN                                      8143\n",
      "CHEST (PRE-OP PA & LAT)                               8064\n",
      "CT CHEST W/CONTRAST                                   8001\n",
      "CT ABDOMEN W/CONTRAST                                 7304\n",
      "MR HEAD W & W/O CONTRAST                              7062\n",
      "CT CHEST W/O CONTRAST                                 6745\n",
      "Generic Note                                          6649\n",
      "CT C-SPINE W/O CONTRAST                               4840\n",
      "CT ABDOMEN W/O CONTRAST                               4823\n",
      "LIVER OR GALLBLADDER US (SINGLE ORGAN)                4761\n",
      "ICU Note - CVI                                        4503\n",
      "CTA CHEST W&W/O C&RECONS, NON-CORONARY                4499\n",
      "Addendum                                              4476\n",
      "ABDOMEN (SUPINE & ERECT)                              4462\n",
      "BABYGRAM (CHEST ONLY)                                 4412\n",
      "MR HEAD W/O CONTRAST                                  3603\n",
      "BILAT LOWER EXT VEINS                                 3443\n",
      "                                                    ...   \n",
      "MDI''S                                                   1\n",
      "Gentamcin in HD                                          1\n",
      "Resident Death Note                                      1\n",
      "Medical Student/Attending Admission Note - MICU          1\n",
      "OL SHOULDER 1 VIEW IN O.R. LEFT                          1\n",
      "RP BABYGRAM CHEST DECUB ONLY (71035) RIGHT PORT          1\n",
      "Resp.care extubation note                                1\n",
      "OPR HEEL (AXIAL & LATERAL) IN O.R. PORT RIGHT            1\n",
      "GUIDANCE FOR AMNIO-PERI                                  1\n",
      "R THY BX BY MCARDLE RIGHT                                1\n",
      "ORO FOREARM (AP & LAT) IN O.R. RIGHT IN O.R.             1\n",
      "PPP ABDOMEN (LAT DECUB ONLY) PORT PORT PORT              1\n",
      "OPL HAND (AP, LAT & OBLIQUE) IN O.R. PORT LEFT           1\n",
      "OB KNEE (2 VIEWS) IN O.R. BILAT                          1\n",
      "R MR CALF W & W/O CONTRAST RIGHT                         1\n",
      "nurisng                                                  1\n",
      "Cancelled Video Swallow                                  1\n",
      "L FNA BRSEAST, THYROID OR PROSTATE LEFT                  1\n",
      "MICU Attending Progress NOte                             1\n",
      "MICU Attending Admit note                                1\n",
      "Phone call to wife                                       1\n",
      "R MRHAND W/O&W/CONTRAST RIGHT                            1\n",
      "P OB F/U W/O MEASUREMENTS PORT                           1\n",
      "Medication Confirmation                                  1\n",
      "MAMMO NEEDLE LOC                                         1\n",
      "discussion with daughter                                 1\n",
      "OB F/U W/MEASUREMENTS                                    1\n",
      "PL WRIST(3 + VIEWS) PORT LEFT                            1\n",
      "PO CHEST (SINGLE VIEW) PORT IN O.R.                      1\n",
      "FEMUR (AP & LAT)                                         1\n",
      "Name: DESCRIPTION, Length: 3848, dtype: int64\n",
      "Unique patient ids and their number of arrivals to the hospital are:\n",
      "55672    1420\n",
      "78076    1414\n",
      "77614    1351\n",
      "27427    1294\n",
      "109      1279\n",
      "99383    1277\n",
      "30202    1247\n",
      "20082    1094\n",
      "67906    1083\n",
      "6975     1073\n",
      "23680    1054\n",
      "65582    1029\n",
      "31942    1012\n",
      "3014     1010\n",
      "80658     998\n",
      "12613     986\n",
      "15204     983\n",
      "29035     978\n",
      "25256     974\n",
      "13033     974\n",
      "7679      969\n",
      "12578     969\n",
      "862       959\n",
      "21280     951\n",
      "7917      925\n",
      "517       912\n",
      "22933     904\n",
      "31260     904\n",
      "73695     902\n",
      "55094     900\n",
      "         ... \n",
      "1671        1\n",
      "19519       1\n",
      "32620       1\n",
      "68353       1\n",
      "31826       1\n",
      "31543       1\n",
      "13118       1\n",
      "53568       1\n",
      "25324       1\n",
      "32567       1\n",
      "51895       1\n",
      "12229       1\n",
      "82419       1\n",
      "91887       1\n",
      "32655       1\n",
      "21387       1\n",
      "67019       1\n",
      "2875        1\n",
      "9060        1\n",
      "31914       1\n",
      "85898       1\n",
      "99183       1\n",
      "40477       1\n",
      "28144       1\n",
      "30373       1\n",
      "90566       1\n",
      "82956       1\n",
      "93193       1\n",
      "7119        1\n",
      "11393       1\n",
      "Name: SUBJECT_ID, Length: 46146, dtype: int64\n"
     ]
    }
   ],
   "source": [
    "print(\"Total no. of rows in this csv:{}\".format(note_df.shape[0]))\n",
    "print(\"Different types of category in this csv are:\\n{}\".format(note_df.CATEGORY.value_counts()))\n",
    "print(\"Different types of description in this csv are:\\n{}\".format(note_df.DESCRIPTION.value_counts()))\n",
    "print(\"Unique patient ids and their number of arrivals to the hospital are:\\n{}\".format(note_df.SUBJECT_ID.value_counts()))"
   ]
  },
  {
   "cell_type": "code",
   "execution_count": 4,
   "metadata": {
    "_uuid": "272393ae605b501f993296ad9ac1afc3c587653e"
   },
   "outputs": [
    {
     "name": "stdout",
     "output_type": "stream",
     "text": [
      "Number of unique patients:46146\n",
      "Number of patients who have visited the hospital only once:167\n"
     ]
    }
   ],
   "source": [
    "print(\"Number of unique patients:{}\".format(len(note_df.SUBJECT_ID.unique())))\n",
    "print(\"Number of patients who have visited the hospital only once:{}\".format(note_df.shape[0]-len(note_df[note_df.duplicated(['SUBJECT_ID'],keep=False)])))"
   ]
  },
  {
   "cell_type": "code",
   "execution_count": 5,
   "metadata": {
    "_uuid": "17ab70ede38c816edd55176e3d41ccf72173ca70"
   },
   "outputs": [
    {
     "data": {
      "text/plain": [
       "count    2.083180e+06\n",
       "mean     3.829493e+02\n",
       "std      6.170308e+02\n",
       "min      1.000000e+00\n",
       "25%      6.700000e+01\n",
       "50%      1.950000e+02\n",
       "75%      3.250000e+02\n",
       "max      9.992000e+03\n",
       "Name: word_count, dtype: float64"
      ]
     },
     "execution_count": 5,
     "metadata": {},
     "output_type": "execute_result"
    }
   ],
   "source": [
    "#word counts\n",
    "note_df['word_count'] = note_df['TEXT'].apply(lambda x: len(str(x).split(\" \")))\n",
    "note_df['word_count'].describe()"
   ]
  },
  {
   "cell_type": "code",
   "execution_count": 6,
   "metadata": {
    "_uuid": "e01ac3f487d508d0d321e13da5e2d5f7661964d0"
   },
   "outputs": [],
   "source": [
    "req_df=note_df[['SUBJECT_ID','CATEGORY','DESCRIPTION','TEXT']].copy()\n",
    "req_df.to_csv('short_notes.csv',index=False)"
   ]
  },
  {
   "cell_type": "code",
   "execution_count": 7,
   "metadata": {
    "_uuid": "e3196a188cebc255bde35665666f7b623b1ab73a"
   },
   "outputs": [
    {
     "data": {
      "text/html": [
       "<div>\n",
       "<style scoped>\n",
       "    .dataframe tbody tr th:only-of-type {\n",
       "        vertical-align: middle;\n",
       "    }\n",
       "\n",
       "    .dataframe tbody tr th {\n",
       "        vertical-align: top;\n",
       "    }\n",
       "\n",
       "    .dataframe thead th {\n",
       "        text-align: right;\n",
       "    }\n",
       "</style>\n",
       "<table border=\"1\" class=\"dataframe\">\n",
       "  <thead>\n",
       "    <tr style=\"text-align: right;\">\n",
       "      <th></th>\n",
       "      <th>SUBJECT_ID</th>\n",
       "      <th>CATEGORY</th>\n",
       "      <th>DESCRIPTION</th>\n",
       "      <th>TEXT</th>\n",
       "    </tr>\n",
       "  </thead>\n",
       "  <tbody>\n",
       "    <tr>\n",
       "      <th>0</th>\n",
       "      <td>22532</td>\n",
       "      <td>Discharge summary</td>\n",
       "      <td>Report</td>\n",
       "      <td>Admission Date:  [**2151-7-16**]       Dischar...</td>\n",
       "    </tr>\n",
       "    <tr>\n",
       "      <th>1</th>\n",
       "      <td>13702</td>\n",
       "      <td>Discharge summary</td>\n",
       "      <td>Report</td>\n",
       "      <td>Admission Date:  [**2118-6-2**]       Discharg...</td>\n",
       "    </tr>\n",
       "    <tr>\n",
       "      <th>2</th>\n",
       "      <td>13702</td>\n",
       "      <td>Discharge summary</td>\n",
       "      <td>Report</td>\n",
       "      <td>Admission Date:  [**2119-5-4**]              D...</td>\n",
       "    </tr>\n",
       "    <tr>\n",
       "      <th>3</th>\n",
       "      <td>13702</td>\n",
       "      <td>Discharge summary</td>\n",
       "      <td>Report</td>\n",
       "      <td>Admission Date:  [**2124-7-21**]              ...</td>\n",
       "    </tr>\n",
       "    <tr>\n",
       "      <th>4</th>\n",
       "      <td>26880</td>\n",
       "      <td>Discharge summary</td>\n",
       "      <td>Report</td>\n",
       "      <td>Admission Date:  [**2162-3-3**]              D...</td>\n",
       "    </tr>\n",
       "  </tbody>\n",
       "</table>\n",
       "</div>"
      ],
      "text/plain": [
       "   SUBJECT_ID                        ...                                                                       TEXT\n",
       "0       22532                        ...                          Admission Date:  [**2151-7-16**]       Dischar...\n",
       "1       13702                        ...                          Admission Date:  [**2118-6-2**]       Discharg...\n",
       "2       13702                        ...                          Admission Date:  [**2119-5-4**]              D...\n",
       "3       13702                        ...                          Admission Date:  [**2124-7-21**]              ...\n",
       "4       26880                        ...                          Admission Date:  [**2162-3-3**]              D...\n",
       "\n",
       "[5 rows x 4 columns]"
      ]
     },
     "execution_count": 7,
     "metadata": {},
     "output_type": "execute_result"
    }
   ],
   "source": [
    "req_df.head()"
   ]
  },
  {
   "cell_type": "code",
   "execution_count": 8,
   "metadata": {
    "_uuid": "fa1b696255a59a563b357087ed02635bb6fa016b"
   },
   "outputs": [],
   "source": [
    "train_des = req_df['TEXT'].fillna(\"not available\").values\n",
    "train_subid=req_df['SUBJECT_ID'].values\n"
   ]
  },
  {
   "cell_type": "code",
   "execution_count": 9,
   "metadata": {
    "_uuid": "6a8b470b45abf51583f5386cf14d69770a783380"
   },
   "outputs": [],
   "source": [
    "from nltk.corpus import stopwords \n",
    "from nltk.tokenize import word_tokenize \n",
    "#from nltk.stem import WordNetLemmatizer \n",
    "  \n",
    "#lemmatizer = WordNetLemmatizer() \n",
    "stop_words = set(stopwords.words('english')) \n",
    "\n",
    "def data_clean(big_list):\n",
    "    for i in range(len(big_list)):\n",
    "        curr_string=big_list[i]\n",
    "        curr_string=curr_string.lower()\n",
    "        word_tokens = word_tokenize(curr_string)\n",
    "        filtered_sentence = [] \n",
    "        for w in word_tokens: \n",
    "            if (w not in stop_words) and (w.isalpha()):\n",
    "                #word=lemmatizer.lemmatize(w)\n",
    "                filtered_sentence.append(w)\n",
    "        big_list[i]=' '.join(filtered_sentence)\n",
    "    return big_list"
   ]
  },
  {
   "cell_type": "code",
   "execution_count": 10,
   "metadata": {
    "_uuid": "ff2adb738807216feff73ae7a42e34b2512fe082"
   },
   "outputs": [],
   "source": [
    "train_des=data_clean(train_des)\n"
   ]
  },
  {
   "cell_type": "code",
   "execution_count": 11,
   "metadata": {
    "_uuid": "8d72b641a8846b4d0d1077b20ac9647e4f9f1f18"
   },
   "outputs": [],
   "source": []
  }
 ],
 "metadata": {
  "kernelspec": {
   "display_name": "Python 3",
   "language": "python",
   "name": "python3"
  },
  "language_info": {
   "codemirror_mode": {
    "name": "ipython",
    "version": 3
   },
   "file_extension": ".py",
   "mimetype": "text/x-python",
   "name": "python",
   "nbconvert_exporter": "python",
   "pygments_lexer": "ipython3",
   "version": "3.5.6"
  }
 },
 "nbformat": 4,
 "nbformat_minor": 1
}
